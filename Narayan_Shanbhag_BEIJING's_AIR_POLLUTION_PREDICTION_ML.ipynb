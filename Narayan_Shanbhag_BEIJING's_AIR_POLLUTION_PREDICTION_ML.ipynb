{
 "cells": [
  {
   "attachments": {
    "image.png": {
     "image/png": "[encoded data removed]"
    }
   },
   "cell_type": "markdown",
   "metadata": {},
   "source": [
    "<p align=\"center\"><img src=\"https://github.com/insaid2018/Term-1/blob/master/Images/INSAID_Full%20Logo.png?raw=true\" width=\"260\" height=\"110\" />\n",
    "</p>\n",
    "\n",
    "![image.png](attachment:image.png)"
   ]
  },
  {
   "cell_type": "markdown",
   "metadata": {},
   "source": [
    "## BEIJING's AIR POLLUTION PREDICTION\n",
    "\n",
    "**Submitted by NARAYAN V. SHANBHAG**\n",
    "\n",
    "**GCD Student, INSAID**\n",
    "\n",
    "**Batch: May 9, 2021**"
   ]
  },
  {
   "cell_type": "markdown",
   "metadata": {},
   "source": [
    "## Table of Content\n",
    "\n",
    "1. [Introduction](#section1)<br>\n",
    "2. [Problem Statement](#section2)<br>\n",
    "3. [Library Installments](#section3)<br>\n",
    "    - 3.1 [Installing Libraries](#section301)<br>\n",
    "    - 3.2 [Importing Libraries](#section302)<br>\n",
    "4. [Data Acquisition & Descriptions](#section4)<br>\n",
    "    - 4.1 [Data Description](#section401)<br>\n",
    "    - 4.2 [Data Information](#section402)<br>\n",
    "5. [Data Pre-processing](#section5)<br>\n",
    "    - 5.1 [Pre-profiling Report](#section501)<br>\n",
    "    - 5.2 [Data Cleaning](#section502)<br>\n",
    "    - 5.3 [Post-Profiling Report](#section503)<br>    \n",
    "6. [Exploratory Data Analysis](#section6)<br>\n",
    "    - 6.1 [Analysis of Features w.r.t.Target variable](#section601)<br>\n",
    "7. [Data Post-processing](#section7)<br>\n",
    "    - 7.1 [Handling Categorical columns](#section701)<br>\n",
    "    - 7.2 [Feature Extraction](#section702)<br>\n",
    "    - 7.3 [Linear Regression](#section703)<br>\n"
   ]
  },
  {
   "cell_type": "markdown",
   "metadata": {},
   "source": [
    "<a name = section1></a>\n",
    "## 1. Introduction\n",
    "\n",
    "**Company Introduction**\n",
    "\n",
    "- **Airifi**, is an **is an air purifier company.**\n",
    "- One of the leading **Global pollution controller** organizations.\n",
    "- The company is working its way for the **betterment of the society** by using advanced technologies to purify the air by **removing harmful particles** from the atmosphere.\n",
    "\n",
    "**Current Scenario**\n",
    "- As we know in recent years the pollution emitted per day has increased drastically, countries all around the world are taking up actions in order to tackle the rapid increase in pollution to **avoid global warming.**\n",
    "- **Beijing’s pollution authority** has collected data for the **past 5 years** and the data has been passed on to your client by the **government of China**\n"
   ]
  },
  {
   "cell_type": "markdown",
   "metadata": {},
   "source": [
    "<a name = section2></a>\n",
    "## 2. Problem Definition\n",
    "\n",
    "**Currently, Beijing is suffering from:**\n",
    "\n",
    "- China is **notorious** for being a **major polluter**. Its economic growth in the past **three decades** has been the **fastest** among major nations, which is the main factor in why China has **extensive air pollution.**\n",
    "- China’s **Environmental Sustainability Index** is ranked near the **bottom among countries worldwide.**\n",
    "- Air Pollution in Beijing is mainly dominated by **coal combustion** and **vehicles running** on the roads.\n",
    "- With this **amplified wealth**, individuals are more capable of affording motor vehicles. The number of motor vehicles on Beijing’s roads has doubled to **3.3 million** with nearly **1200 added** each day.\n",
    "\n",
    "- **Airifi** has hired you as a data science consultant. They want you to come up with actionable insights and a model that could help predict pollution.\n",
    "\n",
    "- They expect a model that could **predict the daily pollution emission** for Beijing.\n",
    "- The idea is to use the model in order to take **further action** to **reduce the pollution rate.**\n",
    "\n",
    "**Your Role:**\n",
    "\n",
    "- You are given a dataset of the past few years of the **air quality (2013-2017).**\n",
    "- The data is from the **12 stations** of **Beijing** that have been thoroughly observed.\n",
    "- Your task is to build a **regression model** using the dataset.\n",
    "- Because there was no machine learning model for this problem in the company, you don’t have a quantifiable win condition. You need to build the best possible model.\n",
    "\n",
    "**Project Deliverables:**\n",
    "\n",
    "- Deliverable: **Predict the particulate matter from the given set of data.**\n",
    "- Machine Learning Task: **Regression**\n",
    "- Target Variable: **PM2.5**\n",
    "- Win Condition: N/A (best possible model)\n",
    "\n",
    "**Evaluation Metric:**\n",
    "\n",
    "- The model evaluation will be based on the **RMSE** score.\n",
    "\n"
   ]
  },
  {
   "cell_type": "markdown",
   "metadata": {},
   "source": [
    "<a name = section3></a>\n",
    "## 3. Library Installations"
   ]
  },
  {
   "cell_type": "markdown",
   "metadata": {},
   "source": [
    "<a name = section301></a>\n",
    "### 3.1 Installing Libraries"
   ]
  },
  {
   "cell_type": "code",
   "execution_count": null,
   "metadata": {},
   "outputs": [],
   "source": [
    "!pip install -q datascience                                         \n",
    "# Package that is required by pandas profiling\n",
    "!pip install -q pandas-profiling                                    \n",
    "# Library to generate basic statistics about data\n",
    "\n",
    "# To install more libraries insert your code here.."
   ]
  },
  {
   "cell_type": "markdown",
   "metadata": {},
   "source": [
    "<a name = section302></a>\n",
    "### 3.2 Importing Libraries"
   ]
  },
  {
   "cell_type": "code",
   "execution_count": null,
   "metadata": {},
   "outputs": [],
   "source": [
    "#-------------------------------------------------------------------------------------------------------------------------------\n",
    "import pandas as pd                                                 # Importing package pandas (For Panel Data Analysis)\n",
    "from pandas_profiling import ProfileReport                          # Import Pandas Profiling (To generate Univariate Analysis)\n",
    "#-------------------------------------------------------------------------------------------------------------------------------\n",
    "import warnings\n",
    "warnings.filterwarnings('ignore')\n",
    "import numpy as np                                                  # Importing package numpys (For Numerical Python)\n",
    "#-------------------------------------------------------------------------------------------------------------------------------\n",
    "import matplotlib\n",
    "import matplotlib.pyplot as plt                                     # Importing pyplot interface to use matplotlib\n",
    "import seaborn as sns                                             # Importing seaborn library for interactive visualization\n",
    "%matplotlib inline\n",
    "#-------------------------------------------------------------------------------------------------------------------------------\n",
    "import scipy as sp                                                  # Importing library for scientific calculations\n",
    "#-------------------------------------------------------------------------------------------------------------------------------"
   ]
  },
  {
   "cell_type": "markdown",
   "metadata": {},
   "source": [
    "<a name = section4></a>\n",
    "## 4. Data Acquisition & Description"
   ]
  },
  {
   "cell_type": "markdown",
   "metadata": {},
   "source": [
    "We are provided with a dataset containing all the necessary information about the air quality of Beijing.\n",
    "\n",
    "This is the data that we have to predict for future samples.\n",
    "\n",
    "The dataset is divided into two parts: Train, and Test sets.\n",
    "\n",
    "**Train Set:**\n",
    "\n",
    "- The train set contains **403776** rows and **17** columns.\n",
    "- The train set contains data from **2013-16.**\n",
    "- The column **PM2.5** is the target variable.\n",
    "\n",
    "**Test Set:**\n",
    "- The test set contains **16728** rows and **16** columns.\n",
    "- The test set contains data for **2017.**\n",
    "- The test set doesn’t contain the **PM2.5** column.\n",
    "- PM2.5 needs to be predicted for the test set.\n",
    "\n",
    "The dataset is divided into two parts:\n",
    "\n",
    "**Train Set:**\n",
    "\n",
    "| Records |Features|Target Variable|\n",
    "|:--|:--|:--|\n",
    "|**403776**|**17**|**PM5**|\n",
    "\n",
    "**Test Set:**\n",
    "\n",
    "|Records|Features|Predicted Variable|\n",
    "|:--|:--|:--|\n",
    "|**16278**|**16**|**PM5**|\n",
    "\n",
    "\n",
    "**The model development for Age prediction will be done in Jupyter Notebook.**\n",
    "\n",
    " |***ID***|****Feature****|****Description****|\n",
    "|:--|:--|:--|\n",
    "|01| REF_NO  |Index of rows|\n",
    "|02| year    |Contains the year in which the data was Recorded|\n",
    "|03| month   |Contains the month of the year in which the data was Recorded| \n",
    "|04| day     |Contains the day of the month in which the data was Recorded|   \n",
    "|05| hour    |Contains at what hour of the day the data was Recorded|\n",
    "|06| PM2.5   |Atmospheric particulate matter (PM) that have a diameter less than 2.5 micrometers|\n",
    "|07| PM10    |Atmospheric particulate matter (PM) that have a diameter less than 10 micrometers|\n",
    "|08| SO2     |SO2 concentration (ug/m^3)|\n",
    "|09| NO2     |NO2 concentration (ug/m^3)|\n",
    "|10| CO      |CO concentration (ug/m^3)|\n",
    "|11| O3      |Ozone concentration (ug/m^3)|\n",
    "|12| Temp    |temperature (degree Celsius)|\n",
    "|13| PRES    |pressure (hPa)|\n",
    "|14| DEWP    |dew point temperature (degree Celsius) - This is the Temperature at which the **Air needs to be cooled to(at constant pressure)** in order to achieve **Relative Humidity(RH) of 100%**. At this point the air cannot hold more water in the **GAS FORM**|\n",
    "|15| RAIN    |RAIN in (mm)|\n",
    "|16| wd      |wind direction|\n",
    "|17| WSPM    |CO concentration (ug/m^3)|\n",
    "|18| station |name of the air-quality monitoring site|"
   ]
  },
  {
   "cell_type": "code",
   "execution_count": null,
   "metadata": {
    "scrolled": true
   },
   "outputs": [],
   "source": [
    "# Loading the Train dataset #\n",
    "data = pd.read_csv('D:/beijing_train.csv')\n",
    "print('Data Shape: ', data.shape)\n",
    "print(data.head())\n"
   ]
  },
  {
   "cell_type": "code",
   "execution_count": null,
   "metadata": {},
   "outputs": [],
   "source": [
    "data_final = pd.read_csv(\"D:/beijing_test.csv\",skipinitialspace=True)\n",
    "print('Data Shape:', data_final.shape)\n",
    "print(data_final.head())"
   ]
  },
  {
   "cell_type": "markdown",
   "metadata": {},
   "source": [
    "<a name = section402></a>\n",
    "### 4.2 Data Information"
   ]
  },
  {
   "cell_type": "code",
   "execution_count": null,
   "metadata": {},
   "outputs": [],
   "source": [
    "data.info()"
   ]
  },
  {
   "cell_type": "code",
   "execution_count": null,
   "metadata": {},
   "outputs": [],
   "source": [
    "data_final.info()"
   ]
  },
  {
   "cell_type": "markdown",
   "metadata": {},
   "source": [
    "## Observations :\n",
    " - MOST of the columns other than REF_NO, year. month, day, hour and station have **missing values**  in the TRAINING DATASET\n",
    " - There are NO MISSING values in any of the columns of the TESTING DATASET\n",
    " - Data Preprocessing report will give clear idea about the dataset.\n",
    " "
   ]
  },
  {
   "cell_type": "markdown",
   "metadata": {},
   "source": [
    "### 4.2 Data Description"
   ]
  },
  {
   "cell_type": "code",
   "execution_count": null,
   "metadata": {
    "scrolled": true
   },
   "outputs": [],
   "source": [
    "data.describe()"
   ]
  },
  {
   "cell_type": "code",
   "execution_count": null,
   "metadata": {},
   "outputs": [],
   "source": [
    "data_final.describe()"
   ]
  },
  {
   "cell_type": "markdown",
   "metadata": {},
   "source": [
    "<a name = section5></a>\n",
    "## 5. Data Pre-processing"
   ]
  },
  {
   "cell_type": "markdown",
   "metadata": {},
   "source": [
    "### Missing values in various columns"
   ]
  },
  {
   "cell_type": "code",
   "execution_count": null,
   "metadata": {},
   "outputs": [],
   "source": [
    "data.isnull().sum()"
   ]
  },
  {
   "cell_type": "code",
   "execution_count": null,
   "metadata": {},
   "outputs": [],
   "source": [
    "print(data['PM2.5'].median())\n",
    "print(data['PM2.5'].mean())"
   ]
  },
  {
   "cell_type": "code",
   "execution_count": null,
   "metadata": {},
   "outputs": [],
   "source": [
    "print(data['PM10'].median())\n",
    "print(data['PM10'].mean())"
   ]
  },
  {
   "cell_type": "code",
   "execution_count": null,
   "metadata": {
    "scrolled": true
   },
   "outputs": [],
   "source": [
    "print(data['SO2'].median())\n",
    "print(data['SO2'].mean())"
   ]
  },
  {
   "cell_type": "code",
   "execution_count": null,
   "metadata": {},
   "outputs": [],
   "source": [
    "print(data['NO2'].median())\n",
    "print(data['NO2'].mean())"
   ]
  },
  {
   "cell_type": "code",
   "execution_count": null,
   "metadata": {},
   "outputs": [],
   "source": [
    "print(data['CO'].median())\n",
    "print(data['CO'].mean())"
   ]
  },
  {
   "cell_type": "code",
   "execution_count": null,
   "metadata": {
    "scrolled": true
   },
   "outputs": [],
   "source": [
    "print(data['O3'].median())\n",
    "print(data['O3'].mean())"
   ]
  },
  {
   "cell_type": "code",
   "execution_count": null,
   "metadata": {},
   "outputs": [],
   "source": [
    "print(data['TEMP'].median())\n",
    "print(data['TEMP'].mean())"
   ]
  },
  {
   "cell_type": "code",
   "execution_count": null,
   "metadata": {},
   "outputs": [],
   "source": [
    "print(data['PRES'].median())\n",
    "print(data['PRES'].mean())"
   ]
  },
  {
   "cell_type": "code",
   "execution_count": null,
   "metadata": {},
   "outputs": [],
   "source": [
    "print(data['DEWP'].median())\n",
    "print(data['DEWP'].mean())"
   ]
  },
  {
   "cell_type": "code",
   "execution_count": null,
   "metadata": {},
   "outputs": [],
   "source": [
    "print(data['RAIN'].median())\n",
    "print(data['RAIN'].mean())"
   ]
  },
  {
   "cell_type": "code",
   "execution_count": null,
   "metadata": {},
   "outputs": [],
   "source": [
    "print(data['WSPM'].median())\n",
    "print(data['WSPM'].mean())"
   ]
  },
  {
   "cell_type": "code",
   "execution_count": null,
   "metadata": {},
   "outputs": [],
   "source": [
    "print(data['wd'].mode())"
   ]
  },
  {
   "cell_type": "markdown",
   "metadata": {},
   "source": [
    "### Replace the MISSING VALUES  and 0s with either MEAN, MEDIAN or MODE as DEEMED FIT"
   ]
  },
  {
   "cell_type": "code",
   "execution_count": null,
   "metadata": {},
   "outputs": [],
   "source": [
    "data['PM2.5'].fillna(value = 55.0, inplace = True)\n",
    "data['PM10'].fillna(value =  83.0, inplace = True)\n",
    "data['SO2'].fillna(value =  7.0, inplace = True)\n",
    "data['NO2'].fillna(value =  43.0, inplace = True)\n",
    "data['CO'].fillna(value =  900.0, inplace = True)\n",
    "data['O3'].fillna(value =  45.0, inplace = True)\n",
    "data['TEMP'].fillna(value =  14.088899474602709, inplace = True)\n",
    "data['PRES'].fillna(value =  1009.8, inplace = True)\n",
    "data['DEWP'].fillna(value =  3.1572914472363536, inplace = True)\n",
    "data['RAIN'].fillna(value =  0.067051782461616, inplace = True)\n",
    "data['WSPM'].fillna(value =  1.4, inplace = True)\n",
    "data['wd'].fillna(value =  \"NE\", inplace = True)"
   ]
  },
  {
   "cell_type": "markdown",
   "metadata": {},
   "source": [
    "### After replacing the missing values check whether CELLS in any of the COLUMNS are still BLANK\n",
    "### Also check whether any cells of the Columns have 0s"
   ]
  },
  {
   "cell_type": "code",
   "execution_count": null,
   "metadata": {},
   "outputs": [],
   "source": [
    "data.isnull().sum()"
   ]
  },
  {
   "cell_type": "code",
   "execution_count": null,
   "metadata": {},
   "outputs": [],
   "source": [
    "(data == 0 ).sum(axis = 0)"
   ]
  },
  {
   "cell_type": "code",
   "execution_count": null,
   "metadata": {},
   "outputs": [],
   "source": [
    "data_final.isnull().sum()"
   ]
  },
  {
   "cell_type": "code",
   "execution_count": null,
   "metadata": {},
   "outputs": [],
   "source": [
    "(data_final == 0 ).sum(axis = 0)"
   ]
  },
  {
   "cell_type": "markdown",
   "metadata": {},
   "source": [
    "### 5.1 Pre-profiling Report"
   ]
  },
  {
   "cell_type": "code",
   "execution_count": null,
   "metadata": {
    "scrolled": true
   },
   "outputs": [],
   "source": [
    "profile_Train = ProfileReport(df = data, minimal = True)\n",
    "profile_Train.to_file(output_file = 'D:/Beijing_Air_Pollution_Prediction_Training_Set_PreProfilingReport.html')\n",
    "print('Pre-Profiling Accomplished!')\n",
    "profile_Train"
   ]
  },
  {
   "cell_type": "code",
   "execution_count": null,
   "metadata": {
    "scrolled": true
   },
   "outputs": [],
   "source": [
    "profile_Test = ProfileReport(df = data_final, minimal = True)\n",
    "profile_Test.to_file(output_file = 'D:/Beijing_Air_Pollution_Prediction_Testing_Set_PostProfilingReport.html')\n",
    "print('Pre-Profiling Accomplished!')\n",
    "profile_Test"
   ]
  },
  {
   "cell_type": "markdown",
   "metadata": {},
   "source": [
    "### Checking for DUPLICATE RECORDS"
   ]
  },
  {
   "cell_type": "code",
   "execution_count": null,
   "metadata": {},
   "outputs": [],
   "source": [
    "data[data.duplicated()]"
   ]
  },
  {
   "cell_type": "code",
   "execution_count": null,
   "metadata": {},
   "outputs": [],
   "source": [
    "data_final[data_final.duplicated()]"
   ]
  },
  {
   "cell_type": "markdown",
   "metadata": {},
   "source": [
    "<a name = section502></a>\n",
    "### 5.2 Data Cleaning"
   ]
  },
  {
   "cell_type": "markdown",
   "metadata": {},
   "source": [
    "## Observations \n",
    "\n",
    "- **No missing values** in the **TESTING** datasets.\n",
    "- **No Duplicate Records/Rows** in both the **TRAINING** as well as **TESTING** datasets after Data Cleaning."
   ]
  },
  {
   "cell_type": "markdown",
   "metadata": {},
   "source": [
    "<a name = section503></a>\n",
    "### 5.3 Post-profiling Report"
   ]
  },
  {
   "cell_type": "code",
   "execution_count": null,
   "metadata": {
    "scrolled": true
   },
   "outputs": [],
   "source": [
    "post_profile_data = ProfileReport(df = data,explorative = True)\n",
    "post_profile_data.to_file(output_file = 'Beijing_Air_Pollution_Prediction_Training_Set_PostProfilingReport.html')\n",
    "print('Post-Profiling Accomplished!')\n",
    "post_profile_data"
   ]
  },
  {
   "cell_type": "code",
   "execution_count": null,
   "metadata": {},
   "outputs": [],
   "source": [
    "post_profile_data_final = ProfileReport(df = data,explorative = True)\n",
    "post_profile_data_final.to_file(output_file = 'Beijing_Air_Pollution_Prediction_Testing_Set_PostProfilingReport.html')\n",
    "print('Post-Profiling Accomplished!')\n",
    "post_profile_data_final"
   ]
  },
  {
   "cell_type": "markdown",
   "metadata": {},
   "source": [
    "<a name = section6></a>\n",
    "## 6. Exploratory Data Analysis"
   ]
  },
  {
   "cell_type": "code",
   "execution_count": null,
   "metadata": {},
   "outputs": [],
   "source": [
    "sns.distplot(data['PM2.5'])"
   ]
  },
  {
   "cell_type": "markdown",
   "metadata": {},
   "source": [
    "## Observations\n",
    "\n",
    " - There is **SKEWNESS** in the target variable i.e. **PM 2.5 levels** and it is **RIGHT SKEWED**.\n"
   ]
  },
  {
   "cell_type": "code",
   "execution_count": null,
   "metadata": {
    "scrolled": true
   },
   "outputs": [],
   "source": [
    "sns.distplot(data['PM10'])"
   ]
  },
  {
   "cell_type": "code",
   "execution_count": null,
   "metadata": {},
   "outputs": [],
   "source": [
    "sns.distplot(data['PRES'])"
   ]
  },
  {
   "cell_type": "code",
   "execution_count": null,
   "metadata": {},
   "outputs": [],
   "source": [
    "sns.distplot(data['RAIN'])"
   ]
  },
  {
   "cell_type": "code",
   "execution_count": null,
   "metadata": {},
   "outputs": [],
   "source": [
    "fig = plt.figure(figsize = (10,7))\n",
    "data['wd'].value_counts().plot(kind = 'bar', cmap = 'autumn')\n",
    "plt.ylabel('Count', size = 14)\n",
    "plt.xlabel('Wind Directon', size = 14)\n",
    "plt.title('Wind Direction', size = 16)\n",
    "plt.grid()"
   ]
  },
  {
   "cell_type": "code",
   "execution_count": null,
   "metadata": {},
   "outputs": [],
   "source": [
    "sns.distplot(data['TEMP'])"
   ]
  },
  {
   "cell_type": "markdown",
   "metadata": {},
   "source": [
    "<a name = section601></a>\n",
    "### 6.1 Analysis of features w.r.t. Target Variable"
   ]
  },
  {
   "cell_type": "code",
   "execution_count": null,
   "metadata": {
    "scrolled": false
   },
   "outputs": [],
   "source": [
    "# Which Stations have recorded the HIGHEST PM 2.5 levels?\n",
    "figure = plt.figure(figsize = (20,8))\n",
    "pollution_level = data.groupby('station')['PM2.5'].mean()\n",
    "pollution_level.plot.bar(color = 'Blue')\n",
    "plt.xlabel('station', size = 14)\n",
    "plt.ylabel('PM 2.5 Levels', size = 14)\n",
    "plt.title('STATION v/s PM 2.5 levels', size = 16)\n",
    "plt.xticks(size = 12)\n",
    "plt.grid()"
   ]
  },
  {
   "cell_type": "code",
   "execution_count": null,
   "metadata": {},
   "outputs": [],
   "source": [
    "# Which year had recorded the HIGHEST PM 2.5 levels?\n",
    "figure = plt.figure(figsize = (20,8))\n",
    "pollution_level = data.groupby('year')['PM2.5'].mean()\n",
    "pollution_level.plot.bar('PM2.5',color = 'Tomato')\n",
    "plt.xlabel('YEAR', size = 14)\n",
    "plt.ylabel('PM 2.5 Levels', size = 14)\n",
    "plt.title('YEAR v/s PM 2.5 levels', size = 16)\n",
    "plt.xticks(size = 12)\n",
    "plt.grid()"
   ]
  },
  {
   "cell_type": "code",
   "execution_count": null,
   "metadata": {},
   "outputs": [],
   "source": [
    "# Which month had recorded the HIGHEST PM 2.5 levels?\n",
    "figure = plt.figure(figsize = (20,8))\n",
    "#figure = figure.add_axes(['month'])\n",
    "#pollution_level = data.sort_index('year')\n",
    "pollution_level = data.groupby('month')['PM2.5'].mean()   # value_counts().sort_values(ascending = False)[:15]\n",
    "#pollution = data.PM2.5.sort_values(ascending=False)[:15]\n",
    "#pollution = data_PM2.5.groupby('station')['PM2.5']#.sort_values(ascending=False)[:15]\n",
    "pollution_level.plot.bar(color = 'Blue')\n",
    "plt.xlabel('Month', size = 14)\n",
    "plt.ylabel('PM 2.5 Levels', size = 14)\n",
    "plt.title('MONTH v/s PM 2.5 levels', size = 16)\n",
    "plt.xticks(size = 12)\n",
    "plt.grid()\n",
    "\n"
   ]
  },
  {
   "cell_type": "code",
   "execution_count": null,
   "metadata": {
    "scrolled": true
   },
   "outputs": [],
   "source": [
    "data.info()"
   ]
  },
  {
   "cell_type": "markdown",
   "metadata": {},
   "source": [
    "### Correlation between FEATURES using PAIRPLOT, HEATMAP and VIF"
   ]
  },
  {
   "cell_type": "code",
   "execution_count": null,
   "metadata": {
    "scrolled": true
   },
   "outputs": [],
   "source": [
    "# Correlation between Features\n",
    "sns.pairplot(data= data[['PM2.5','year','month','day','hour','PM10','SO2','NO2','CO','O3','TEMP','PRES','DEWP','RAIN','wd','WSPM','station']], height = 4, aspect = 1.5)"
   ]
  },
  {
   "cell_type": "code",
   "execution_count": null,
   "metadata": {},
   "outputs": [],
   "source": [
    "data_checking = data[['PM2.5','year','month','day','hour','PM10','SO2','NO2','CO','O3','TEMP','PRES','DEWP','RAIN','wd','WSPM','station']]"
   ]
  },
  {
   "cell_type": "code",
   "execution_count": null,
   "metadata": {
    "scrolled": true
   },
   "outputs": [],
   "source": [
    "figure = plt.figure(figsize = (15,5))\n",
    "HeatMap = sns.heatmap(data_checking.corr(),annot = True,cmap = 'coolwarm',vmin = 0, vmax = 1,linecolor = 'black',linewidths = 1)\n",
    "HeatMap.set_title('Correlation HeatMap', fontdict = {'fontsize':16})"
   ]
  },
  {
   "cell_type": "code",
   "execution_count": null,
   "metadata": {},
   "outputs": [],
   "source": [
    "data_checking = data[['PM2.5','PM10','SO2','NO2','CO','O3','TEMP','PRES','DEWP','RAIN','WSPM']]"
   ]
  },
  {
   "cell_type": "code",
   "execution_count": null,
   "metadata": {},
   "outputs": [],
   "source": [
    "# Import library for VIF\n",
    "from statsmodels.stats.outliers_influence import variance_inflation_factor\n",
    "\n",
    "def calc_vif(X):\n",
    "  # Calculating VIF\n",
    "  vif = pd.DataFrame()\n",
    "  vif[\"variables\"] = X.columns\n",
    "  vif[\"VIF\"] = [variance_inflation_factor(X.values, i) for i in range(X.shape[1])]\n",
    "  return(vif)\n",
    "\n",
    "c = data_checking.iloc[::-1]\n",
    "calc_vif(c)"
   ]
  },
  {
   "cell_type": "code",
   "execution_count": null,
   "metadata": {
    "scrolled": false
   },
   "outputs": [],
   "source": [
    "data[['PM2.5','PM10','SO2','NO2','CO','O3','TEMP','PRES','DEWP','RAIN','WSPM']].plot(kind='box', figsize=(20, 7), vert=False)"
   ]
  },
  {
   "cell_type": "markdown",
   "metadata": {},
   "source": [
    "## Observations\n",
    "\n",
    " - **PM5** is having **Strong Positive correlation** with **PM10, SO2, NO2 and CO.**\n",
    " - Check for Correlation values **0.5 to 1** and **-1 to -0.5**\n",
    " - Also these Independent variables **PM10, SO2, NO2, CO** have High Collinearity amongst themselves, which is a **TYPICAL CASE**\n",
    " - Some independent variables, **TEMP and DEWP,** **TEMP and O3** are **Positively highly correlated**, resulting in **Multicollinearity.**\n",
    " - Some independent variables, **TEMP and PRES,** **PRES and DEWP** are **Negatively highly correlated**, resulting in **Multicollinearity.**\n",
    " - **TEMP & DEWP** and **PRES & TEMP** both have the **SAME CORRELATION COEFFIECIENT** but one is **POSITIVE** and the other **NEGATIVE**"
   ]
  },
  {
   "cell_type": "markdown",
   "metadata": {},
   "source": [
    "<a name = section7></a>\n",
    "## 7. Data Post-processing"
   ]
  },
  {
   "cell_type": "markdown",
   "metadata": {},
   "source": [
    " - **Machine Learning Algorithm** works with **numerical** values.\n",
    " - So, it is necessary to **convert the categorical columns into Numerical columns.**"
   ]
  },
  {
   "cell_type": "markdown",
   "metadata": {},
   "source": [
    "<a name = section701></a>\n",
    "### 7.1 Handling Categorical and Numerical columns "
   ]
  },
  {
   "cell_type": "markdown",
   "metadata": {},
   "source": [
    "### (A) Categorical Columns : \n",
    "**wd**  and **station** are the only 2 Categorical columns in the DataSet\n",
    "\n",
    "### (B) Numerical Columns:\n",
    "**PM2.5','year','month','day','hour','PM10','SO2','NO2','CO','O3','TEMP','PRES','DEWP','RAIN','WSPM',** are the Numerical Columns"
   ]
  },
  {
   "cell_type": "code",
   "execution_count": null,
   "metadata": {},
   "outputs": [],
   "source": [
    "data.columns\n"
   ]
  },
  {
   "cell_type": "code",
   "execution_count": null,
   "metadata": {},
   "outputs": [],
   "source": [
    "data_categorical = data[['month','day','hour','wd','station']]\n",
    "data_categorical"
   ]
  },
  {
   "cell_type": "code",
   "execution_count": null,
   "metadata": {},
   "outputs": [],
   "source": [
    "from sklearn.preprocessing import LabelEncoder\n",
    "data_categorical = data_categorical.apply(LabelEncoder().fit_transform)\n",
    "data_categorical"
   ]
  },
  {
   "cell_type": "code",
   "execution_count": null,
   "metadata": {},
   "outputs": [],
   "source": [
    "data_numerical = data[['SO2', 'NO2','CO', 'O3', 'DEWP', 'RAIN']]\n",
    "data_numerical"
   ]
  },
  {
   "cell_type": "code",
   "execution_count": null,
   "metadata": {},
   "outputs": [],
   "source": [
    "data_model = pd.concat([data_categorical,data_numerical], axis=1)\n",
    "data_model"
   ]
  },
  {
   "cell_type": "code",
   "execution_count": null,
   "metadata": {},
   "outputs": [],
   "source": [
    "data_intermediate = data[['REF_NO', 'year', 'month', 'day', 'hour', 'PM2.5', 'PM10', 'SO2', 'NO2',\n",
    "       'CO', 'O3', 'TEMP', 'PRES', 'DEWP', 'RAIN', 'WSPM']]\n",
    "data_intermediate"
   ]
  },
  {
   "cell_type": "markdown",
   "metadata": {},
   "source": [
    "## VIF ==> Variance Inflation Factor\n",
    "- **Checking Multicollinearity using VIF**\n",
    "- **Supports only NUMERICAL values, STRING and LOGICAL COLUMNS to be dropped**\n",
    "- **The values cannot be BLANK or NaN**\n",
    "- **VIF or Variable Inflation Factor is used to identify the correlation of 1 INDEPENDENT VARIABLE(PREDICTOR) with a group of OTHER VARIABLES(PREDICTORS)**\n",
    "- **VIF is the RECIPROCAL of TOLERANCE VALUE**\n",
    "- **A RULE OF THUMB commonly used in PRACTICE is; if VIF < 3 it is IDEAL and if  VIF > 10, you have HIGH MULTICOLLINEARITY**"
   ]
  },
  {
   "cell_type": "code",
   "execution_count": null,
   "metadata": {},
   "outputs": [],
   "source": [
    "# Import library for VIF\n",
    "from statsmodels.stats.outliers_influence import variance_inflation_factor\n",
    "\n",
    "def calc_vif(X):\n",
    "  # Calculating VIF\n",
    "  vif = pd.DataFrame()\n",
    "  vif[\"variables\"] = X.columns\n",
    "  vif[\"VIF\"] = [variance_inflation_factor(X.values, i) for i in range(X.shape[1])]\n",
    "  return(vif)\n",
    "\n",
    "c = data_intermediate.iloc[::-1]\n",
    "calc_vif(c)"
   ]
  },
  {
   "cell_type": "markdown",
   "metadata": {},
   "source": [
    "### Picking only the required FEATURES and Re-arranging the data set as per our need\n",
    "#### Dropping the Columns Length, Diameter, Whole_weight, Sucked_weight, Viscera_weight from the FEATURES as these are HIGHLY MULTICOLLINEAR as observed from the PAIRPLOT, HEATMAP and VIF"
   ]
  },
  {
   "cell_type": "markdown",
   "metadata": {},
   "source": [
    "<a name = section702></a>\n",
    "### 7.2 Feature Extraction"
   ]
  },
  {
   "cell_type": "markdown",
   "metadata": {},
   "source": [
    "### Split the data into x and y. Meaning y is the DEPENDENT/TARGET variable and x as FEATURE/INDEPENDENT variable"
   ]
  },
  {
   "cell_type": "code",
   "execution_count": null,
   "metadata": {},
   "outputs": [],
   "source": [
    "x = data_model\n",
    "x"
   ]
  },
  {
   "cell_type": "code",
   "execution_count": null,
   "metadata": {},
   "outputs": [],
   "source": [
    "y = data['PM2.5']\n",
    "y"
   ]
  },
  {
   "cell_type": "markdown",
   "metadata": {},
   "source": [
    "### Split the data into x and y. Meaning y is the DEPENDENT/TARGET variable and x as FEATURE/INDEPENDENT variable\n"
   ]
  },
  {
   "cell_type": "code",
   "execution_count": null,
   "metadata": {},
   "outputs": [],
   "source": [
    "from sklearn.model_selection import train_test_split\n",
    "x_train, x_test, y_train, y_test = train_test_split(x, y, test_size=0.2, random_state=0)"
   ]
  },
  {
   "cell_type": "markdown",
   "metadata": {},
   "source": [
    "### Print the shape/size of the Training and Testing data"
   ]
  },
  {
   "cell_type": "code",
   "execution_count": null,
   "metadata": {},
   "outputs": [],
   "source": [
    "print(\"TRAINING CASES as below:\")\n",
    "print(\"x_train shape:\",x_train.shape)\n",
    "print(\"y_train shape:\",y_train.shape)\n",
    "print(\"TESTING CASES as below:\")\n",
    "print(\"x_test shape:\",x_test.shape)\n",
    "print(\"y_test shape:\",y_test.shape)"
   ]
  },
  {
   "cell_type": "code",
   "execution_count": null,
   "metadata": {},
   "outputs": [],
   "source": [
    "x_train"
   ]
  },
  {
   "cell_type": "code",
   "execution_count": null,
   "metadata": {},
   "outputs": [],
   "source": [
    "y_train"
   ]
  },
  {
   "cell_type": "code",
   "execution_count": null,
   "metadata": {},
   "outputs": [],
   "source": [
    "x_test"
   ]
  },
  {
   "cell_type": "code",
   "execution_count": null,
   "metadata": {},
   "outputs": [],
   "source": [
    "y_test"
   ]
  },
  {
   "cell_type": "markdown",
   "metadata": {},
   "source": [
    "<a name = section703></a>\n",
    "### 7.3 Linear Regression"
   ]
  },
  {
   "cell_type": "markdown",
   "metadata": {},
   "source": [
    "**Here, we will use these 4 steps :** \n",
    "\n",
    " - (a) Load the algorithm \n",
    " - (b) Instantiate and Fit the model/Train the model using the training dataset\n",
    " - (c) Prediction on the test set\n",
    " - (d) Evaluate the model - Calculate RMSE the GO-TO METRIC"
   ]
  },
  {
   "cell_type": "code",
   "execution_count": null,
   "metadata": {},
   "outputs": [],
   "source": [
    "from sklearn.linear_model import LinearRegression\n",
    "lr_model = LinearRegression(fit_intercept=True)"
   ]
  },
  {
   "cell_type": "code",
   "execution_count": null,
   "metadata": {},
   "outputs": [],
   "source": [
    "lr_model.fit(x_train, y_train)"
   ]
  },
  {
   "cell_type": "code",
   "execution_count": null,
   "metadata": {},
   "outputs": [],
   "source": [
    "y_pred_train = lr_model.predict(x_train) \n",
    "y_pred_train\n"
   ]
  },
  {
   "cell_type": "code",
   "execution_count": null,
   "metadata": {},
   "outputs": [],
   "source": [
    "y_pred_test = lr_model.predict (x_test)\n",
    "y_pred_test"
   ]
  },
  {
   "cell_type": "markdown",
   "metadata": {},
   "source": [
    "## Different Metrics for Evaluation of the LINEAR MODEL"
   ]
  },
  {
   "cell_type": "markdown",
   "metadata": {},
   "source": [
    "### RMSE is the GO-TO Metric here"
   ]
  },
  {
   "cell_type": "code",
   "execution_count": null,
   "metadata": {},
   "outputs": [],
   "source": [
    "from sklearn import metrics\n",
    "RMSE_train = np.sqrt(metrics.mean_squared_error(y_train, y_pred_train))\n",
    "RMSE_test = np.sqrt(metrics.mean_squared_error(y_test, y_pred_test))\n",
    "print('RMSE for training set is {}'.format(RMSE_train))\n",
    "print('RMSE for test set is {}'.format(RMSE_test))"
   ]
  },
  {
   "cell_type": "markdown",
   "metadata": {},
   "source": [
    "### We have also calculated other Metrics viz. \n",
    "### MAE (Mean Average Error)\n",
    "### MLSE (Mean squared logarithmic Error) --- if there are NEGATIVE values in the DataSet then we cannot APPLY this SCORE\n",
    "### R2 or R-SQUARED ERROR\n",
    "### MAPE (Mean Average Percentage Error)"
   ]
  },
  {
   "cell_type": "code",
   "execution_count": null,
   "metadata": {},
   "outputs": [],
   "source": [
    "MAE_train = metrics.mean_absolute_error(y_train, y_pred_train)\n",
    "MAE_test = metrics.mean_absolute_error(y_test, y_pred_test)"
   ]
  },
  {
   "cell_type": "code",
   "execution_count": null,
   "metadata": {},
   "outputs": [],
   "source": [
    "print('MAE for training set is {}'.format(MAE_train))\n",
    "print('MAE for test set is {}'.format(MAE_test))"
   ]
  },
  {
   "cell_type": "markdown",
   "metadata": {},
   "source": [
    "### We cannot apply MLSE Score here as the TARGET VARIABLE PM2.5 has NEGATIVE VALUES"
   ]
  },
  {
   "cell_type": "code",
   "execution_count": null,
   "metadata": {
    "scrolled": true
   },
   "outputs": [],
   "source": [
    "#MLSE_train = metrics.mean_squared_log_error(y_train, y_pred_train)\n",
    "#MLSE_test = metrics.mean_squared_log_error(y_test,y_pred_test)\n",
    "#print('Mean squared logarithmic Error(RMLSE) of train data:',MLSE_train)\n",
    "#print('Mean squared logarithmic Error(RMLSE) of test data:',MLSE_train)"
   ]
  },
  {
   "cell_type": "code",
   "execution_count": null,
   "metadata": {},
   "outputs": [],
   "source": [
    "r2_train = metrics.r2_score(y_train, y_pred_train)\n",
    "r2_test = metrics.r2_score(y_test, y_pred_test)\n",
    "print('R-Squared of train data:',r2_train)\n",
    "print('R-Squared of test data:',r2_test)"
   ]
  },
  {
   "cell_type": "code",
   "execution_count": null,
   "metadata": {
    "scrolled": true
   },
   "outputs": [],
   "source": [
    "MAPE_train = metrics.mean_absolute_percentage_error(y_train, y_pred_train)\n",
    "MAPE_test = metrics.mean_absolute_percentage_error(y_test, y_pred_test)\n",
    "print('MAPE of train data:',MAPE_train)\n",
    "print('MAPE of test data:',MAPE_test)"
   ]
  },
  {
   "cell_type": "markdown",
   "metadata": {},
   "source": [
    "## Analyzing the Test File"
   ]
  },
  {
   "cell_type": "markdown",
   "metadata": {},
   "source": [
    "### Seperate out the Categorical and Numerical Columns in the Test DataSet"
   ]
  },
  {
   "cell_type": "code",
   "execution_count": null,
   "metadata": {},
   "outputs": [],
   "source": [
    "data_submission = data_final['REF_NO']\n",
    "data_submission"
   ]
  },
  {
   "cell_type": "code",
   "execution_count": null,
   "metadata": {
    "scrolled": true
   },
   "outputs": [],
   "source": [
    "data_final_categorical = data_final[['month','day','hour','wd','station']]\n",
    "data_final_categorical"
   ]
  },
  {
   "cell_type": "code",
   "execution_count": null,
   "metadata": {},
   "outputs": [],
   "source": [
    "data_final_numerical = data_final[['SO2', 'NO2','CO', 'O3', 'DEWP', 'RAIN']]\n",
    "data_final_numerical"
   ]
  },
  {
   "cell_type": "code",
   "execution_count": null,
   "metadata": {},
   "outputs": [],
   "source": [
    "from sklearn.preprocessing import LabelEncoder\n",
    "data_final_categorical = data_final_categorical.apply(LabelEncoder().fit_transform)\n",
    "data_final_categorical"
   ]
  },
  {
   "cell_type": "code",
   "execution_count": null,
   "metadata": {},
   "outputs": [],
   "source": [
    "data_final_model = pd.concat([data_final_categorical,data_final_numerical], axis=1)\n",
    "data_final_model"
   ]
  },
  {
   "cell_type": "code",
   "execution_count": null,
   "metadata": {
    "scrolled": false
   },
   "outputs": [],
   "source": [
    "y_pred_test_final = lr_model.predict(data_final_model)\n",
    "y_pred_test_final\n",
    "y_pred_test_final.shape"
   ]
  },
  {
   "cell_type": "markdown",
   "metadata": {},
   "source": [
    "### Convert the array into a DataFrame"
   ]
  },
  {
   "cell_type": "code",
   "execution_count": null,
   "metadata": {},
   "outputs": [],
   "source": [
    "y_pred_test_final = pd.DataFrame(y_pred_test_final)"
   ]
  },
  {
   "cell_type": "code",
   "execution_count": null,
   "metadata": {},
   "outputs": [],
   "source": [
    "y_pred_test_final"
   ]
  },
  {
   "cell_type": "markdown",
   "metadata": {},
   "source": [
    "### Prepare the submission file which should have only two columns viz. the KEY/INDEX column(customerID) and TARGET column(Churn)"
   ]
  },
  {
   "cell_type": "code",
   "execution_count": null,
   "metadata": {},
   "outputs": [],
   "source": [
    "submission_file = pd.concat([data_submission,y_pred_test_final], axis = 1)"
   ]
  },
  {
   "cell_type": "code",
   "execution_count": null,
   "metadata": {},
   "outputs": [],
   "source": [
    "submission_file"
   ]
  },
  {
   "cell_type": "markdown",
   "metadata": {},
   "source": [
    "### To write the final data to the submission file which is .csv without HEADER and INDEX"
   ]
  },
  {
   "cell_type": "code",
   "execution_count": null,
   "metadata": {},
   "outputs": [],
   "source": [
    "submission_file.to_csv('D://Beijings_air_pollution_prediction_submission_new.csv', header=False, index=False)"
   ]
  },
  {
   "cell_type": "markdown",
   "metadata": {},
   "source": [
    "## THANK YOU !!!!"
   ]
  },
  {
   "cell_type": "code",
   "execution_count": null,
   "metadata": {},
   "outputs": [],
   "source": []
  }
 ],
 "metadata": {
  "kernelspec": {
   "display_name": "Python 3",
   "language": "python",
   "name": "python3"
  },
  "language_info": {
   "codemirror_mode": {
    "name": "ipython",
    "version": 3
   },
   "file_extension": ".py",
   "mimetype": "text/x-python",
   "name": "python",
   "nbconvert_exporter": "python",
   "pygments_lexer": "ipython3",
   "version": "3.8.8"
  }
 },
 "nbformat": 4,
 "nbformat_minor": 4
}
